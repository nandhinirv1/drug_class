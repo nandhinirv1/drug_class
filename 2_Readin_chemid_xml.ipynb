{
 "cells": [
  {
   "cell_type": "code",
   "execution_count": 1,
   "metadata": {},
   "outputs": [
    {
     "name": "stdout",
     "output_type": "stream",
     "text": [
      "file\n"
     ]
    }
   ],
   "source": [
    "#Read and process chemidplus XML\n",
    "#ChemIdPlus is the source of synonymsand class information for druginfo\n",
    "#CurrentChemID.xml can be downloaded from ftp://ftp.nlm.nih.gov/nlmdata/.chemidlease/\n",
    "\n",
    "import xml.etree.ElementTree as ET\n",
    "tree = ET.parse('CurrentChemID.xml')\n",
    "root = tree.getroot()\n",
    "\n",
    "print (root.tag)\n"
   ]
  },
  {
   "cell_type": "code",
   "execution_count": 2,
   "metadata": {},
   "outputs": [
    {
     "name": "stdout",
     "output_type": "stream",
     "text": [
      "420613\n"
     ]
    }
   ],
   "source": [
    "print (len(root.findall('Chemical')))"
   ]
  },
  {
   "cell_type": "code",
   "execution_count": 5,
   "metadata": {},
   "outputs": [
    {
     "name": "stdout",
     "output_type": "stream",
     "text": [
      "10000\n",
      "20000\n",
      "30000\n",
      "40000\n",
      "50000\n",
      "60000\n",
      "70000\n",
      "80000\n",
      "90000\n",
      "100000\n",
      "110000\n",
      "120000\n",
      "130000\n",
      "140000\n",
      "150000\n",
      "160000\n",
      "170000\n",
      "180000\n",
      "190000\n",
      "200000\n",
      "210000\n",
      "220000\n",
      "230000\n",
      "240000\n",
      "250000\n",
      "260000\n",
      "270000\n",
      "280000\n",
      "290000\n",
      "300000\n",
      "310000\n",
      "320000\n",
      "330000\n",
      "340000\n",
      "350000\n",
      "360000\n",
      "370000\n",
      "380000\n",
      "390000\n",
      "400000\n",
      "410000\n",
      "420000\n",
      "420613\n",
      "10\n",
      "1629131\n"
     ]
    }
   ],
   "source": [
    "\n",
    "with open(\"chemid_synonym_class_map.txt\",\"a\") as fw:\n",
    "    except_count=0\n",
    "    count=0\n",
    "    write_for_count=0\n",
    "    for chemical in root.findall('Chemical'):\n",
    "        try:\n",
    "            count=count+1\n",
    "            \n",
    "            #print (i)\n",
    "            #ET.dump(chemical)\n",
    "            base_list=[]\n",
    "            base_list.append(chemical.attrib['id'])\n",
    "            #base_list.append(chemical.attrib['displayName'])\n",
    "\n",
    "            subst_name=[]\n",
    "            synonyms=[]\n",
    "            classification_name=[]\n",
    "            synonyms.append(chemical.attrib['displayName']) #Taking display name also as a synonym\n",
    "            \n",
    "            for child in chemical.findall('NameList'):\n",
    "                for n in child.findall('NameOfSubstance'):\n",
    "                    synonyms.append(n.text)\n",
    "                for ch in child.findall(\"Synonyms\"):\n",
    "                    synonyms.append(ch.text)\n",
    "                    #ET.dump(ch)\n",
    "\n",
    "            for child in chemical.findall('ClassificationList'):\n",
    "                for c in child.findall('ClassificationCode'):\n",
    "                    classification_name.append(c.text)\n",
    "            #base_list.append(subst_name)\n",
    "            base_list.append(synonyms)\n",
    "            base_list.append(classification_name)\n",
    "            if count%10000==0:\n",
    "                print (count)\n",
    "            \n",
    "            for i in range(0,len(base_list[1])):\n",
    "                write_for_count=write_for_count+1\n",
    "                fw.write(str(base_list[0])+\"\\t\"+base_list[1][i]+\"\\t\"+\"|\".join(i for i in base_list[2])+\"\\n\")\n",
    "  \n",
    "        except:\n",
    "            except_count=except_count+1\n",
    "\n",
    "#print (\"Exceptions:\")\n",
    "print (count)\n",
    "print (except_count)\n",
    "print (write_for_count)"
   ]
  },
  {
   "cell_type": "code",
   "execution_count": null,
   "metadata": {},
   "outputs": [],
   "source": []
  }
 ],
 "metadata": {
  "kernelspec": {
   "display_name": "Python 3",
   "language": "python",
   "name": "python3"
  },
  "language_info": {
   "codemirror_mode": {
    "name": "ipython",
    "version": 3
   },
   "file_extension": ".py",
   "mimetype": "text/x-python",
   "name": "python",
   "nbconvert_exporter": "python",
   "pygments_lexer": "ipython3",
   "version": "3.6.5"
  }
 },
 "nbformat": 4,
 "nbformat_minor": 2
}
